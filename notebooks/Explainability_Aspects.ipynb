{
 "cells": [
  {
   "cell_type": "code",
   "execution_count": null,
   "id": "660b90d4",
   "metadata": {},
   "outputs": [],
   "source": [
    "import sys\n",
    "import pandas as pd\n",
    "\n",
    "import numpy as np\n",
    "import skopt\n",
    "import pandas as pd\n",
    "from sklearn.linear_model import LogisticRegression\n",
    "from sklearn.ensemble import RandomForestClassifier\n",
    "from sklearn.model_selection import GridSearchCV, RepeatedStratifiedKFold\n",
    "from sklearn.pipeline import Pipeline\n",
    "from sklearn.compose import ColumnTransformer\n",
    "from sklearn.preprocessing import OneHotEncoder, StandardScaler\n",
    "from sklearn.metrics import f1_score, classification_report\n",
    "from sklearn.impute import SimpleImputer\n",
    "from sklearn.model_selection import train_test_split\n",
    "from sklearn.preprocessing import LabelEncoder\n",
    "import sklearn\n",
    "from skopt import BayesSearchCV\n",
    "from sklearn.metrics import accuracy_score\n",
    "from sklearn.metrics import balanced_accuracy_score\n",
    "from sklearn.metrics import roc_auc_score\n",
    "from sklearn.metrics import matthews_corrcoef\n",
    "import joblib"
   ]
  },
  {
   "cell_type": "code",
   "execution_count": null,
   "id": "3e43e6ca",
   "metadata": {},
   "outputs": [],
   "source": [
    "training=pd.read_csv(\"/path_to_ADNI_training_dataset.csv\")\n",
    "test=pd.read_csv(\"/path_to_ADNI_test_dataset.csv\")"
   ]
  },
  {
   "cell_type": "code",
   "execution_count": null,
   "id": "830da6b0",
   "metadata": {},
   "outputs": [],
   "source": [
    "datasetAIBL=pd.read_csv(\"/path_to_AIBL_dataset.csv\")\n",
    "datasetOASIS=pd.read_csv(\"/path_to_OASIS_dataset.csv\")"
   ]
  },
  {
   "cell_type": "code",
   "execution_count": null,
   "id": "6a75ea3c",
   "metadata": {},
   "outputs": [],
   "source": [
    "training.rename(columns={ \"Unnamed: 0\": \"PTID\" }, inplace = True)\n",
    "test.rename(columns={ \"Unnamed: 0\": \"PTID\" }, inplace = True)\n",
    "datasetAIBL.rename(columns={ \"Unnamed: 0\": \"PTID\" }, inplace = True)\n",
    "datasetOASIS.rename(columns={ \"Unnamed: 0\": \"PTID\" }, inplace = True)"
   ]
  },
  {
   "cell_type": "code",
   "execution_count": null,
   "id": "0273ebdc",
   "metadata": {},
   "outputs": [],
   "source": [
    "training=training.replace([np.inf, -np.inf], np.nan)\n",
    "test=test.replace([np.inf, -np.inf], np.nan)\n",
    "datasetAIBL=datasetAIBL.replace([np.inf, -np.inf], np.nan)\n",
    "datasetOASIS=datasetOASIS.replace([np.inf, -np.inf], np.nan)"
   ]
  },
  {
   "cell_type": "code",
   "execution_count": null,
   "id": "9672d1d2",
   "metadata": {},
   "outputs": [],
   "source": [
    "training=training.dropna(axis=1, how='all')"
   ]
  },
  {
   "cell_type": "code",
   "execution_count": null,
   "id": "6d640061",
   "metadata": {},
   "outputs": [],
   "source": [
    "#TODO CHANGE IF NECESSARY\n",
    "featureSetSelected=\"MRI+SocioDemography+Genetics+kogTest\"\n",
    "model=\"rf\"\n",
    "selectMethod=\"no\""
   ]
  },
  {
   "cell_type": "code",
   "execution_count": null,
   "id": "7ecb9f25",
   "metadata": {},
   "outputs": [],
   "source": [
    "clf = joblib.load('/path_to_save_model/model_'+featureSetSelected+\"_\"+model+\"_\"+selectMethod+'.pkl') "
   ]
  },
  {
   "cell_type": "code",
   "execution_count": null,
   "id": "786fd9dd",
   "metadata": {},
   "outputs": [],
   "source": [
    "import dalex as dx\n",
    "from sklearn.dummy import DummyClassifier\n",
    "from sklearn import preprocessing\n",
    "\n",
    "Y_train=pd.get_dummies(training.DX,drop_first=True).to_numpy().squeeze()\n",
    "X_train=training.drop([\"DX\",\"separation\"],axis=1).to_numpy()\n",
    "\n",
    "scaler = preprocessing.StandardScaler().fit(X_train)\n",
    "X_train_pre=scaler.transform(X_train)\n",
    "\n",
    "dummy_clf = DummyClassifier(strategy=\"most_frequent\")\n",
    "dataNamed=pd.DataFrame(X_train_pre,columns=training.drop([\"DX\",\"separation\"],axis=1).columns)"
   ]
  },
  {
   "cell_type": "code",
   "execution_count": null,
   "id": "2d665059",
   "metadata": {},
   "outputs": [],
   "source": [
    "exp = dx.Explainer(dummy_clf, dataNamed, Y_train)\n",
    "\n",
    "asp = dx.Aspect(exp)\n",
    "\n",
    "\n",
    "aspects=asp.get_aspects(h=0.5)\n",
    "aspects"
   ]
  },
  {
   "cell_type": "code",
   "execution_count": null,
   "id": "b9ce883f",
   "metadata": {},
   "outputs": [],
   "source": [
    "import warnings\n",
    "warnings.filterwarnings('ignore')\n",
    "exp = dx.Explainer(clf, training.drop([\"DX\",\"separation\"],axis=1), training.DX)\n",
    "\n",
    "asp = dx.Aspect(exp)\n",
    "\n",
    "\n",
    "df=pd.DataFrame(columns=aspects.keys())\n",
    "dataGes=dataGes.append(datasetAIBL, ignore_index=True)\n",
    "\n",
    "\n",
    "for i in range(dataGes.shape[0]):\n",
    "    print(\"Processing subject \"+str(i) + \" of \"+ str(dataGes.shape[0]))\n",
    "    mai_asp_shap = asp.predict_parts(dataGes.drop([\"PTID\",\"DX\"],axis=1).iloc[i],variable_groups=aspects, label='for aspects created by user', type='shap', random_state=42,N=1000)\n",
    "\n",
    "    res=mai_asp_shap.result\n",
    "    df=df.append(pd.DataFrame([res.importance.tolist()],columns=res.aspect_name))\n",
    "\n",
    "df.to_csv('/path_to_save_shap_values_for_aspects/shap_values_aspects'+featureSetSelected+\"_\"+model+\"_\"+selectMethod+'.csv')\n",
    "\n",
    "dfGes=pd.DataFrame(np.array([df.abs().sum().index.tolist(),df.abs().sum().tolist()]).T.tolist(),columns=[\"feature\",\"SHAP_Importance\"])\n",
    "\n",
    "\n",
    "dfGes.to_csv('/path_to_save_shap_values_for_aspects/shap_values_aspects_summarized_per_feature_'+featureSetSelected+\"_\"+model+\"_\"+selectMethod+'.csv')"
   ]
  }
 ],
 "metadata": {
  "kernelspec": {
   "display_name": "Python 3 (ipykernel)",
   "language": "python",
   "name": "python3"
  },
  "language_info": {
   "codemirror_mode": {
    "name": "ipython",
    "version": 3
   },
   "file_extension": ".py",
   "mimetype": "text/x-python",
   "name": "python",
   "nbconvert_exporter": "python",
   "pygments_lexer": "ipython3",
   "version": "3.8.10"
  }
 },
 "nbformat": 4,
 "nbformat_minor": 5
}
