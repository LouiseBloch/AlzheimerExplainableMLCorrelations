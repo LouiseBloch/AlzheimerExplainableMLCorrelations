{
 "cells": [
  {
   "cell_type": "code",
   "execution_count": null,
   "id": "832d2678",
   "metadata": {},
   "outputs": [],
   "source": [
    "import sys\n",
    "import pandas as pd\n",
    "\n",
    "import numpy as np\n",
    "import skopt"
   ]
  },
  {
   "cell_type": "code",
   "execution_count": null,
   "id": "afcfe948",
   "metadata": {},
   "outputs": [],
   "source": [
    "training=pd.read_csv(\"/path_to_ADNI_training_dataset.csv\")\n",
    "test=pd.read_csv(\"/path_to_ADNI_test_dataset.csv\")"
   ]
  },
  {
   "cell_type": "code",
   "execution_count": null,
   "id": "590e0c1d",
   "metadata": {},
   "outputs": [],
   "source": [
    "datasetAIBL=pd.read_csv(\"/path_to_AIBL_dataset.csv\")\n",
    "datasetOASIS=pd.read_csv(\"/path_to_OASIS_dataset.csv\")"
   ]
  },
  {
   "cell_type": "code",
   "execution_count": null,
   "id": "b67cda99",
   "metadata": {},
   "outputs": [],
   "source": [
    "training.rename(columns={ \"Unnamed: 0\": \"PTID\" }, inplace = True)\n",
    "test.rename(columns={ \"Unnamed: 0\": \"PTID\" }, inplace = True)\n",
    "datasetAIBL.rename(columns={ \"Unnamed: 0\": \"PTID\" }, inplace = True)\n",
    "datasetOASIS.rename(columns={ \"Unnamed: 0\": \"PTID\" }, inplace = True)"
   ]
  },
  {
   "cell_type": "code",
   "execution_count": null,
   "id": "2e3b5379",
   "metadata": {},
   "outputs": [],
   "source": [
    "training=training.replace([np.inf, -np.inf], np.nan)\n",
    "test=test.replace([np.inf, -np.inf], np.nan)\n",
    "datasetAIBL=datasetAIBL.replace([np.inf, -np.inf], np.nan)\n",
    "datasetOASIS=datasetOASIS.replace([np.inf, -np.inf], np.nan)"
   ]
  },
  {
   "cell_type": "code",
   "execution_count": null,
   "id": "f54d2b0f",
   "metadata": {},
   "outputs": [],
   "source": [
    "training=training.dropna(axis=1, how='all')"
   ]
  },
  {
   "cell_type": "code",
   "execution_count": null,
   "id": "77ea638b",
   "metadata": {},
   "outputs": [],
   "source": [
    "import pandas as pd\n",
    "from sklearn.linear_model import LogisticRegression\n",
    "from sklearn.ensemble import RandomForestClassifier\n",
    "from sklearn.model_selection import GridSearchCV, RepeatedStratifiedKFold\n",
    "from sklearn.pipeline import Pipeline\n",
    "from sklearn.compose import ColumnTransformer\n",
    "from sklearn.preprocessing import OneHotEncoder, StandardScaler\n",
    "from sklearn.metrics import f1_score, classification_report\n",
    "from sklearn.impute import SimpleImputer\n",
    "from sklearn.model_selection import train_test_split\n",
    "from sklearn.preprocessing import LabelEncoder\n",
    "import sklearn\n",
    "from skopt import BayesSearchCV\n",
    "from sklearn.metrics import accuracy_score\n",
    "from sklearn.metrics import balanced_accuracy_score\n",
    "from sklearn.metrics import roc_auc_score\n",
    "from sklearn.metrics import matthews_corrcoef\n",
    "import joblib"
   ]
  },
  {
   "cell_type": "code",
   "execution_count": null,
   "id": "a2066e39",
   "metadata": {},
   "outputs": [],
   "source": [
    "#TODO CHANGE IF NESSESARY\n",
    "featureSetSelected=\"MRI+SocioDemography\"\n",
    "model=\"svmPoly\"\n",
    "selectMethod=\"yes\""
   ]
  },
  {
   "cell_type": "code",
   "execution_count": null,
   "id": "aa2b7da6",
   "metadata": {},
   "outputs": [],
   "source": [
    "clf = joblib.load('/path_to_save_model/model_'+featureSetSelected+\"_\"+model+\"_\"+selectMethod+'.pkl') \n",
    "\n",
    "\n",
    "import shap\n",
    "\n",
    "\n",
    "\n",
    "dataTrain=training.filter(clf.best_estimator_.named_steps[\"preprocessing\"].transformers_[0][2],axis=1)\n",
    "dataGes=dataGes.append(datasetAIBL, ignore_index=True)\n",
    "dataGes=dataGes.append(datasetOASIS, ignore_index=True)\n",
    "dataTestTrain=dataGes.filter(clf.best_estimator_.named_steps[\"preprocessing\"].transformers_[0][2],axis=1)\n",
    "\n",
    "\n",
    "\n",
    "\n",
    "np.random.seed(312)\n",
    "def predictTest(Xtrain):\n",
    "    XtrainPD= pd.DataFrame(Xtrain, columns =dataTrain.columns)\n",
    "    return(clf.predict_proba(XtrainPD)[:,1])\n",
    "# use Kernel SHAP to explain test set predictions\n",
    "explainer = shap.KernelExplainer(predictTest, dataTrain)#, link=\"logit\")\n",
    "shap_values = explainer.shap_values(dataTestTrain, nsamples=1000)\n",
    "\n",
    "import matplotlib.pyplot as plt\n",
    "shap.summary_plot(shap_values,dataTestTrain,max_display=10,show=False)\n",
    "plt.savefig('/path_to_save_figures/shap_plot_'+featureSetSelected+\"_\"+model+\"_\"+selectMethod+'.pdf',bbox_inches='tight')\n",
    "\n",
    "import joblib\n",
    "joblib.dump(shap_values, '/path_to_save_shap_values/shap_values'+featureSetSelected+\"_\"+model+\"_\"+selectMethod+'.pkl', compress = 1)"
   ]
  }
 ],
 "metadata": {
  "kernelspec": {
   "display_name": "Python 3 (ipykernel)",
   "language": "python",
   "name": "python3"
  },
  "language_info": {
   "codemirror_mode": {
    "name": "ipython",
    "version": 3
   },
   "file_extension": ".py",
   "mimetype": "text/x-python",
   "name": "python",
   "nbconvert_exporter": "python",
   "pygments_lexer": "ipython3",
   "version": "3.8.10"
  }
 },
 "nbformat": 4,
 "nbformat_minor": 5
}
